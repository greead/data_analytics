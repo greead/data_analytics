{
 "cells": [
  {
   "cell_type": "markdown",
   "id": "17920fca-9d9a-468e-b443-3bd89dfecf3a",
   "metadata": {},
   "source": [
    "# Unemployment Case Study"
   ]
  },
  {
   "cell_type": "markdown",
   "id": "db04bd84-ca4c-4584-b92a-0ac954a5c5d4",
   "metadata": {},
   "source": [
    "## Define problems and/or goals\n",
    " - Uncover underlying patterns\n",
    " - Address potential disparities\n",
    " - Evaluate economic health\n",
    "\n",
    "This study will focus on sex-related data during exploration"
   ]
  },
  {
   "cell_type": "markdown",
   "id": "54c18381-ffb8-4310-9e91-569bf9d4c06c",
   "metadata": {},
   "source": [
    "## Determine type of data analytics to use\n",
    " - Exploratory data analysis\n",
    " - Descriptive analytics"
   ]
  },
  {
   "cell_type": "markdown",
   "id": "576a7cc6-84f1-40e0-be26-595b39b909d9",
   "metadata": {},
   "source": [
    "## Collect data to solve the problem\n",
    "Data comes from the following link:\n",
    "https://www.kaggle.com/code/rajatraj0502/u-s-unemployment-rates/input\n",
    "\n",
    "This study will focus on sex related data (df_sex_unemployment_rate.csv)"
   ]
  },
  {
   "cell_type": "markdown",
   "id": "0e5442e2-316d-468e-8780-1ed113541512",
   "metadata": {},
   "source": [
    "#### 1 ) Imports"
   ]
  },
  {
   "cell_type": "code",
   "execution_count": 1,
   "id": "0275a59c-ca2f-4940-a9b6-99b6e8c2488e",
   "metadata": {
    "tags": []
   },
   "outputs": [],
   "source": [
    "# Imports\n",
    "import pandas as pd\n",
    "import seaborn as sns\n",
    "import matplotlib.pyplot as plt\n",
    "import numpy as np"
   ]
  },
  {
   "cell_type": "markdown",
   "id": "754ffce6-c525-471f-8b67-97c7994c2348",
   "metadata": {},
   "source": [
    "#### 2 ) Read data"
   ]
  },
  {
   "cell_type": "code",
   "execution_count": 2,
   "id": "f509b1ed-c5a8-4604-bfbf-7f01339b5d54",
   "metadata": {
    "tags": []
   },
   "outputs": [
    {
     "data": {
      "text/html": [
       "<div>\n",
       "<style scoped>\n",
       "    .dataframe tbody tr th:only-of-type {\n",
       "        vertical-align: middle;\n",
       "    }\n",
       "\n",
       "    .dataframe tbody tr th {\n",
       "        vertical-align: top;\n",
       "    }\n",
       "\n",
       "    .dataframe thead th {\n",
       "        text-align: right;\n",
       "    }\n",
       "</style>\n",
       "<table border=\"1\" class=\"dataframe\">\n",
       "  <thead>\n",
       "    <tr style=\"text-align: right;\">\n",
       "      <th></th>\n",
       "      <th>date</th>\n",
       "      <th>overall_rate</th>\n",
       "      <th>men_rate</th>\n",
       "      <th>women_rate</th>\n",
       "      <th>men_16_17_rate</th>\n",
       "      <th>women_16_17_rate</th>\n",
       "      <th>men_16_19_rate</th>\n",
       "      <th>women_16_19_rate</th>\n",
       "      <th>men_18_19_rate</th>\n",
       "      <th>women_18_19_rate</th>\n",
       "      <th>...</th>\n",
       "      <th>men_25_34_rate</th>\n",
       "      <th>women_25_34_rate</th>\n",
       "      <th>men_25_54_rate</th>\n",
       "      <th>women_25_54_rate</th>\n",
       "      <th>men_35_44_rate</th>\n",
       "      <th>women_35_44_rate</th>\n",
       "      <th>men_45_54_rate</th>\n",
       "      <th>women_45_54_rate</th>\n",
       "      <th>men_55plus_rate</th>\n",
       "      <th>women_55plus_rate</th>\n",
       "    </tr>\n",
       "  </thead>\n",
       "  <tbody>\n",
       "    <tr>\n",
       "      <th>0</th>\n",
       "      <td>1948-01-01</td>\n",
       "      <td>3.4</td>\n",
       "      <td>3.4</td>\n",
       "      <td>3.3</td>\n",
       "      <td>9.7</td>\n",
       "      <td>8.8</td>\n",
       "      <td>9.4</td>\n",
       "      <td>7.2</td>\n",
       "      <td>9.5</td>\n",
       "      <td>6.8</td>\n",
       "      <td>...</td>\n",
       "      <td>2.6</td>\n",
       "      <td>4.3</td>\n",
       "      <td>2.3</td>\n",
       "      <td>2.8</td>\n",
       "      <td>2.1</td>\n",
       "      <td>1.8</td>\n",
       "      <td>2.3</td>\n",
       "      <td>2.1</td>\n",
       "      <td>3.0</td>\n",
       "      <td>NaN</td>\n",
       "    </tr>\n",
       "    <tr>\n",
       "      <th>1</th>\n",
       "      <td>1948-02-01</td>\n",
       "      <td>3.8</td>\n",
       "      <td>3.6</td>\n",
       "      <td>4.5</td>\n",
       "      <td>13.0</td>\n",
       "      <td>13.2</td>\n",
       "      <td>10.8</td>\n",
       "      <td>8.9</td>\n",
       "      <td>9.2</td>\n",
       "      <td>6.8</td>\n",
       "      <td>...</td>\n",
       "      <td>2.7</td>\n",
       "      <td>5.1</td>\n",
       "      <td>2.6</td>\n",
       "      <td>3.7</td>\n",
       "      <td>2.5</td>\n",
       "      <td>2.6</td>\n",
       "      <td>2.6</td>\n",
       "      <td>3.3</td>\n",
       "      <td>2.9</td>\n",
       "      <td>NaN</td>\n",
       "    </tr>\n",
       "    <tr>\n",
       "      <th>2</th>\n",
       "      <td>1948-03-01</td>\n",
       "      <td>4.0</td>\n",
       "      <td>3.8</td>\n",
       "      <td>4.4</td>\n",
       "      <td>14.0</td>\n",
       "      <td>11.4</td>\n",
       "      <td>11.9</td>\n",
       "      <td>8.6</td>\n",
       "      <td>10.3</td>\n",
       "      <td>7.3</td>\n",
       "      <td>...</td>\n",
       "      <td>2.7</td>\n",
       "      <td>3.5</td>\n",
       "      <td>2.6</td>\n",
       "      <td>3.3</td>\n",
       "      <td>2.6</td>\n",
       "      <td>3.0</td>\n",
       "      <td>2.4</td>\n",
       "      <td>3.3</td>\n",
       "      <td>2.8</td>\n",
       "      <td>NaN</td>\n",
       "    </tr>\n",
       "    <tr>\n",
       "      <th>3</th>\n",
       "      <td>1948-04-01</td>\n",
       "      <td>3.9</td>\n",
       "      <td>3.8</td>\n",
       "      <td>4.3</td>\n",
       "      <td>11.6</td>\n",
       "      <td>10.6</td>\n",
       "      <td>9.8</td>\n",
       "      <td>9.2</td>\n",
       "      <td>8.6</td>\n",
       "      <td>8.6</td>\n",
       "      <td>...</td>\n",
       "      <td>3.2</td>\n",
       "      <td>3.8</td>\n",
       "      <td>2.8</td>\n",
       "      <td>3.5</td>\n",
       "      <td>2.7</td>\n",
       "      <td>3.5</td>\n",
       "      <td>2.5</td>\n",
       "      <td>3.1</td>\n",
       "      <td>2.9</td>\n",
       "      <td>NaN</td>\n",
       "    </tr>\n",
       "    <tr>\n",
       "      <th>4</th>\n",
       "      <td>1948-05-01</td>\n",
       "      <td>3.5</td>\n",
       "      <td>3.5</td>\n",
       "      <td>3.7</td>\n",
       "      <td>7.1</td>\n",
       "      <td>5.4</td>\n",
       "      <td>7.6</td>\n",
       "      <td>6.1</td>\n",
       "      <td>8.6</td>\n",
       "      <td>7.0</td>\n",
       "      <td>...</td>\n",
       "      <td>2.9</td>\n",
       "      <td>3.3</td>\n",
       "      <td>2.5</td>\n",
       "      <td>3.1</td>\n",
       "      <td>2.4</td>\n",
       "      <td>3.0</td>\n",
       "      <td>2.3</td>\n",
       "      <td>2.9</td>\n",
       "      <td>3.1</td>\n",
       "      <td>NaN</td>\n",
       "    </tr>\n",
       "  </tbody>\n",
       "</table>\n",
       "<p>5 rows × 26 columns</p>\n",
       "</div>"
      ],
      "text/plain": [
       "         date  overall_rate  men_rate  women_rate  men_16_17_rate  \\\n",
       "0  1948-01-01           3.4       3.4         3.3             9.7   \n",
       "1  1948-02-01           3.8       3.6         4.5            13.0   \n",
       "2  1948-03-01           4.0       3.8         4.4            14.0   \n",
       "3  1948-04-01           3.9       3.8         4.3            11.6   \n",
       "4  1948-05-01           3.5       3.5         3.7             7.1   \n",
       "\n",
       "   women_16_17_rate  men_16_19_rate  women_16_19_rate  men_18_19_rate  \\\n",
       "0               8.8             9.4               7.2             9.5   \n",
       "1              13.2            10.8               8.9             9.2   \n",
       "2              11.4            11.9               8.6            10.3   \n",
       "3              10.6             9.8               9.2             8.6   \n",
       "4               5.4             7.6               6.1             8.6   \n",
       "\n",
       "   women_18_19_rate  ...  men_25_34_rate  women_25_34_rate  men_25_54_rate  \\\n",
       "0               6.8  ...             2.6               4.3             2.3   \n",
       "1               6.8  ...             2.7               5.1             2.6   \n",
       "2               7.3  ...             2.7               3.5             2.6   \n",
       "3               8.6  ...             3.2               3.8             2.8   \n",
       "4               7.0  ...             2.9               3.3             2.5   \n",
       "\n",
       "   women_25_54_rate  men_35_44_rate  women_35_44_rate  men_45_54_rate  \\\n",
       "0               2.8             2.1               1.8             2.3   \n",
       "1               3.7             2.5               2.6             2.6   \n",
       "2               3.3             2.6               3.0             2.4   \n",
       "3               3.5             2.7               3.5             2.5   \n",
       "4               3.1             2.4               3.0             2.3   \n",
       "\n",
       "   women_45_54_rate  men_55plus_rate  women_55plus_rate  \n",
       "0               2.1              3.0                NaN  \n",
       "1               3.3              2.9                NaN  \n",
       "2               3.3              2.8                NaN  \n",
       "3               3.1              2.9                NaN  \n",
       "4               2.9              3.1                NaN  \n",
       "\n",
       "[5 rows x 26 columns]"
      ]
     },
     "execution_count": 2,
     "metadata": {},
     "output_type": "execute_result"
    }
   ],
   "source": [
    "# Read csv file\n",
    "df = pd.read_csv('df_sex_unemployment_rates.csv')\n",
    "\n",
    "# Preview df\n",
    "df.head()"
   ]
  },
  {
   "cell_type": "markdown",
   "id": "cc673b53-95c9-48f1-9ca6-038cc23e7f87",
   "metadata": {},
   "source": [
    "## Clean/transform the data\n",
    " - Ensure usable data types\n",
    " - Fill missing data\n",
    " - Remove outliers"
   ]
  },
  {
   "cell_type": "markdown",
   "id": "4ec80a71-61c1-41fd-a155-c12b9cb5771a",
   "metadata": {},
   "source": [
    "#### 1 ) Preview data types"
   ]
  },
  {
   "cell_type": "code",
   "execution_count": 3,
   "id": "324a1361-e99c-4a47-b3b3-ba6885e1dd03",
   "metadata": {
    "tags": []
   },
   "outputs": [
    {
     "data": {
      "text/plain": [
       "date                  object\n",
       "overall_rate         float64\n",
       "men_rate             float64\n",
       "women_rate           float64\n",
       "men_16_17_rate       float64\n",
       "women_16_17_rate     float64\n",
       "men_16_19_rate       float64\n",
       "women_16_19_rate     float64\n",
       "men_18_19_rate       float64\n",
       "women_18_19_rate     float64\n",
       "men_16_24_rate       float64\n",
       "women_16_24_rate     float64\n",
       "men_20_24_rate       float64\n",
       "women_20_24_rate     float64\n",
       "men_25plus_rate      float64\n",
       "women_25plus_rate    float64\n",
       "men_25_34_rate       float64\n",
       "women_25_34_rate     float64\n",
       "men_25_54_rate       float64\n",
       "women_25_54_rate     float64\n",
       "men_35_44_rate       float64\n",
       "women_35_44_rate     float64\n",
       "men_45_54_rate       float64\n",
       "women_45_54_rate     float64\n",
       "men_55plus_rate      float64\n",
       "women_55plus_rate    float64\n",
       "dtype: object"
      ]
     },
     "execution_count": 3,
     "metadata": {},
     "output_type": "execute_result"
    }
   ],
   "source": [
    "# Preview dtypes\n",
    "df.dtypes"
   ]
  },
  {
   "cell_type": "markdown",
   "id": "7e5885c5-299e-43a3-b0e3-1b8efddd0259",
   "metadata": {},
   "source": [
    "Column data is all already correctly typed."
   ]
  },
  {
   "cell_type": "markdown",
   "id": "ea3aa6db-bac6-491b-a043-67a249edcfec",
   "metadata": {},
   "source": [
    "#### 2 ) Check for missing data instances"
   ]
  },
  {
   "cell_type": "code",
   "execution_count": 4,
   "id": "f4f2275f-44ed-4d9e-8b2d-0526e70da9b1",
   "metadata": {
    "tags": []
   },
   "outputs": [
    {
     "data": {
      "text/plain": [
       "date                   0\n",
       "overall_rate           0\n",
       "men_rate               0\n",
       "women_rate             0\n",
       "men_16_17_rate         0\n",
       "women_16_17_rate       0\n",
       "men_16_19_rate         0\n",
       "women_16_19_rate       0\n",
       "men_18_19_rate         0\n",
       "women_18_19_rate       0\n",
       "men_16_24_rate         0\n",
       "women_16_24_rate       0\n",
       "men_20_24_rate         0\n",
       "women_20_24_rate       0\n",
       "men_25plus_rate        0\n",
       "women_25plus_rate      0\n",
       "men_25_34_rate         0\n",
       "women_25_34_rate       0\n",
       "men_25_54_rate         0\n",
       "women_25_54_rate       0\n",
       "men_35_44_rate         0\n",
       "women_35_44_rate       0\n",
       "men_45_54_rate         0\n",
       "women_45_54_rate       0\n",
       "men_55plus_rate        0\n",
       "women_55plus_rate    552\n",
       "dtype: int64"
      ]
     },
     "execution_count": 4,
     "metadata": {},
     "output_type": "execute_result"
    }
   ],
   "source": [
    "# Find the total number of missing entries for each column\n",
    "df.isnull().sum()"
   ]
  },
  {
   "cell_type": "markdown",
   "id": "388ac1e8-39bd-4f08-8287-4207b83e7651",
   "metadata": {},
   "source": [
    "Strangely, all data is accounted for except for a large amount of data from the women_55plus_rate column."
   ]
  },
  {
   "cell_type": "markdown",
   "id": "01d976b6-8ea4-4655-ab20-80f1b5541601",
   "metadata": {},
   "source": [
    "#### 3 ) Investigate missing data"
   ]
  },
  {
   "cell_type": "code",
   "execution_count": 5,
   "id": "af9d17a0-430e-44b7-85b6-5413a037b67f",
   "metadata": {
    "tags": []
   },
   "outputs": [],
   "source": [
    "## Options for showing rows (testing only)\n",
    "# pd.set_option('display.max_rows', None)\n",
    "# pd.reset_option('display.max_rows')"
   ]
  },
  {
   "cell_type": "code",
   "execution_count": 6,
   "id": "2daf3fde-6396-4604-8310-1d986240e1c1",
   "metadata": {
    "tags": []
   },
   "outputs": [
    {
     "data": {
      "text/html": [
       "<div>\n",
       "<style scoped>\n",
       "    .dataframe tbody tr th:only-of-type {\n",
       "        vertical-align: middle;\n",
       "    }\n",
       "\n",
       "    .dataframe tbody tr th {\n",
       "        vertical-align: top;\n",
       "    }\n",
       "\n",
       "    .dataframe thead th {\n",
       "        text-align: right;\n",
       "    }\n",
       "</style>\n",
       "<table border=\"1\" class=\"dataframe\">\n",
       "  <thead>\n",
       "    <tr style=\"text-align: right;\">\n",
       "      <th></th>\n",
       "      <th>date</th>\n",
       "      <th>women_55plus_rate</th>\n",
       "    </tr>\n",
       "  </thead>\n",
       "  <tbody>\n",
       "    <tr>\n",
       "      <th>0</th>\n",
       "      <td>1948-01-01</td>\n",
       "      <td>NaN</td>\n",
       "    </tr>\n",
       "    <tr>\n",
       "      <th>1</th>\n",
       "      <td>1948-02-01</td>\n",
       "      <td>NaN</td>\n",
       "    </tr>\n",
       "    <tr>\n",
       "      <th>2</th>\n",
       "      <td>1948-03-01</td>\n",
       "      <td>NaN</td>\n",
       "    </tr>\n",
       "    <tr>\n",
       "      <th>3</th>\n",
       "      <td>1948-04-01</td>\n",
       "      <td>NaN</td>\n",
       "    </tr>\n",
       "    <tr>\n",
       "      <th>4</th>\n",
       "      <td>1948-05-01</td>\n",
       "      <td>NaN</td>\n",
       "    </tr>\n",
       "    <tr>\n",
       "      <th>...</th>\n",
       "      <td>...</td>\n",
       "      <td>...</td>\n",
       "    </tr>\n",
       "    <tr>\n",
       "      <th>902</th>\n",
       "      <td>2023-03-01</td>\n",
       "      <td>2.4</td>\n",
       "    </tr>\n",
       "    <tr>\n",
       "      <th>903</th>\n",
       "      <td>2023-04-01</td>\n",
       "      <td>2.4</td>\n",
       "    </tr>\n",
       "    <tr>\n",
       "      <th>904</th>\n",
       "      <td>2023-05-01</td>\n",
       "      <td>2.6</td>\n",
       "    </tr>\n",
       "    <tr>\n",
       "      <th>905</th>\n",
       "      <td>2023-06-01</td>\n",
       "      <td>2.1</td>\n",
       "    </tr>\n",
       "    <tr>\n",
       "      <th>906</th>\n",
       "      <td>2023-07-01</td>\n",
       "      <td>2.3</td>\n",
       "    </tr>\n",
       "  </tbody>\n",
       "</table>\n",
       "<p>907 rows × 2 columns</p>\n",
       "</div>"
      ],
      "text/plain": [
       "           date  women_55plus_rate\n",
       "0    1948-01-01                NaN\n",
       "1    1948-02-01                NaN\n",
       "2    1948-03-01                NaN\n",
       "3    1948-04-01                NaN\n",
       "4    1948-05-01                NaN\n",
       "..          ...                ...\n",
       "902  2023-03-01                2.4\n",
       "903  2023-04-01                2.4\n",
       "904  2023-05-01                2.6\n",
       "905  2023-06-01                2.1\n",
       "906  2023-07-01                2.3\n",
       "\n",
       "[907 rows x 2 columns]"
      ]
     },
     "execution_count": 6,
     "metadata": {},
     "output_type": "execute_result"
    }
   ],
   "source": [
    "# Show dates and the column with missing data\n",
    "df.loc[:,[\"date\", \"women_55plus_rate\"]]"
   ]
  },
  {
   "cell_type": "markdown",
   "id": "cfbe75e8-1ba4-4c4b-b832-3886fd492869",
   "metadata": {},
   "source": [
    "It appears that the unemployment data for women 55 and older was not collected before the year 1984 for this particular dataset."
   ]
  },
  {
   "cell_type": "markdown",
   "id": "f177209a-63d6-4e97-8398-6868df9780c2",
   "metadata": {},
   "source": [
    "#### 4 ) Fill missing data\n",
    "Given the particular circumstances for the missing data, it may be more worthwhile to not fill the data. However, for the sake of completeness, we will fill the values with the column mean."
   ]
  },
  {
   "cell_type": "raw",
   "id": "583289cc-6e01-4fed-a94c-83bef07265e1",
   "metadata": {
    "tags": []
   },
   "source": [
    "# Find the mean value of the women 55 plus column\n",
    "w55plus_mean = df[\"women_55plus_rate\"].mean()\n",
    "\n",
    "# Fill each of the empty data points with the mean\n",
    "df[\"women_55plus_rate\"].fillna(w55plus_mean, inplace = True)\n",
    "\n",
    "# Round the column to whole number rates\n",
    "df[\"women_55plus_rate\"] = df[\"women_55plus_rate\"].round()\n",
    "\n",
    "# Preview df\n",
    "df.head()"
   ]
  },
  {
   "cell_type": "markdown",
   "id": "833cfc5d-f531-47e5-9f11-ebdeb338de32",
   "metadata": {},
   "source": [
    "#### 5 ) Remove outliers"
   ]
  },
  {
   "cell_type": "raw",
   "id": "b002976e-806c-431b-afb0-fc6dc8ac4d4e",
   "metadata": {
    "tags": []
   },
   "source": [
    "import scipy.stats as stats\n",
    "\n",
    "# Define a function to remove outliers using Z-score and IQR given a df and col name\n",
    "def removeOutliers(__df, __col):\n",
    "    z_score = stats.zscore(__df[__col])\n",
    "    iqr = __df[__col].quantile(0.75) - __df[__col].quantile(0.25)\n",
    "    lower_bound = __df[__col].quantile(0.25) - 1.5 * iqr\n",
    "    upper_bound = __df[__col].quantile(0.75) + 1.5 * iqr\n",
    "    \n",
    "    filtered_df = __df[(z_score < 3) & (z_score > -3)]\n",
    "    filtered_df = __df[(__df[__col] >= lower_bound) & (__df[__col] <= upper_bound)]\n",
    "    \n",
    "    return filtered_df\n",
    "\n",
    "new_df = pd.DataFrame()\n",
    "\n",
    "for col in df[1:]:\n",
    "    new_df = removeOutliers(df, col)\n",
    "    \n",
    "new_df.head()"
   ]
  },
  {
   "cell_type": "markdown",
   "id": "26bf76ac-f441-4c03-93a1-0d8f537e550b",
   "metadata": {},
   "source": [
    "#### 6 ) Change date column to datetime type"
   ]
  },
  {
   "cell_type": "code",
   "execution_count": 7,
   "id": "b416917c-b2fa-47ba-b677-50d31bb6ceb7",
   "metadata": {
    "tags": []
   },
   "outputs": [
    {
     "data": {
      "text/plain": [
       "date                 datetime64[ns]\n",
       "overall_rate                float64\n",
       "men_rate                    float64\n",
       "women_rate                  float64\n",
       "men_16_17_rate              float64\n",
       "women_16_17_rate            float64\n",
       "men_16_19_rate              float64\n",
       "women_16_19_rate            float64\n",
       "men_18_19_rate              float64\n",
       "women_18_19_rate            float64\n",
       "men_16_24_rate              float64\n",
       "women_16_24_rate            float64\n",
       "men_20_24_rate              float64\n",
       "women_20_24_rate            float64\n",
       "men_25plus_rate             float64\n",
       "women_25plus_rate           float64\n",
       "men_25_34_rate              float64\n",
       "women_25_34_rate            float64\n",
       "men_25_54_rate              float64\n",
       "women_25_54_rate            float64\n",
       "men_35_44_rate              float64\n",
       "women_35_44_rate            float64\n",
       "men_45_54_rate              float64\n",
       "women_45_54_rate            float64\n",
       "men_55plus_rate             float64\n",
       "women_55plus_rate           float64\n",
       "dtype: object"
      ]
     },
     "execution_count": 7,
     "metadata": {},
     "output_type": "execute_result"
    }
   ],
   "source": [
    "# Set the date col to datetime\n",
    "df['date'] = pd.to_datetime(df['date'])\n",
    "\n",
    "# Preview dtypes\n",
    "df.dtypes"
   ]
  },
  {
   "cell_type": "markdown",
   "id": "9766c76a-6278-4406-8543-f979e8532bef",
   "metadata": {
    "tags": []
   },
   "source": [
    "## Analyze the Data"
   ]
  },
  {
   "cell_type": "markdown",
   "id": "093f8692-3ca6-48a1-8dd6-e87f319b8ecc",
   "metadata": {},
   "source": [
    "### Question 1: What is the ratio of female unemployment to male unemployment over time"
   ]
  },
  {
   "cell_type": "markdown",
   "id": "fcd5210f-8d40-4f06-be57-a743bc37ec88",
   "metadata": {},
   "source": [
    "#### 1 ) Create \"Year\" and \"Decade\" columns"
   ]
  },
  {
   "cell_type": "code",
   "execution_count": 8,
   "id": "dc62c925-f6b0-4e52-8e90-d71118bd0473",
   "metadata": {
    "tags": []
   },
   "outputs": [
    {
     "data": {
      "text/html": [
       "<div>\n",
       "<style scoped>\n",
       "    .dataframe tbody tr th:only-of-type {\n",
       "        vertical-align: middle;\n",
       "    }\n",
       "\n",
       "    .dataframe tbody tr th {\n",
       "        vertical-align: top;\n",
       "    }\n",
       "\n",
       "    .dataframe thead th {\n",
       "        text-align: right;\n",
       "    }\n",
       "</style>\n",
       "<table border=\"1\" class=\"dataframe\">\n",
       "  <thead>\n",
       "    <tr style=\"text-align: right;\">\n",
       "      <th></th>\n",
       "      <th>date</th>\n",
       "      <th>overall_rate</th>\n",
       "      <th>men_rate</th>\n",
       "      <th>women_rate</th>\n",
       "      <th>men_16_17_rate</th>\n",
       "      <th>women_16_17_rate</th>\n",
       "      <th>men_16_19_rate</th>\n",
       "      <th>women_16_19_rate</th>\n",
       "      <th>men_18_19_rate</th>\n",
       "      <th>women_18_19_rate</th>\n",
       "      <th>...</th>\n",
       "      <th>men_25_54_rate</th>\n",
       "      <th>women_25_54_rate</th>\n",
       "      <th>men_35_44_rate</th>\n",
       "      <th>women_35_44_rate</th>\n",
       "      <th>men_45_54_rate</th>\n",
       "      <th>women_45_54_rate</th>\n",
       "      <th>men_55plus_rate</th>\n",
       "      <th>women_55plus_rate</th>\n",
       "      <th>year</th>\n",
       "      <th>decade</th>\n",
       "    </tr>\n",
       "  </thead>\n",
       "  <tbody>\n",
       "    <tr>\n",
       "      <th>0</th>\n",
       "      <td>1948-01-01</td>\n",
       "      <td>3.4</td>\n",
       "      <td>3.4</td>\n",
       "      <td>3.3</td>\n",
       "      <td>9.7</td>\n",
       "      <td>8.8</td>\n",
       "      <td>9.4</td>\n",
       "      <td>7.2</td>\n",
       "      <td>9.5</td>\n",
       "      <td>6.8</td>\n",
       "      <td>...</td>\n",
       "      <td>2.3</td>\n",
       "      <td>2.8</td>\n",
       "      <td>2.1</td>\n",
       "      <td>1.8</td>\n",
       "      <td>2.3</td>\n",
       "      <td>2.1</td>\n",
       "      <td>3.0</td>\n",
       "      <td>NaN</td>\n",
       "      <td>1948</td>\n",
       "      <td>1940</td>\n",
       "    </tr>\n",
       "    <tr>\n",
       "      <th>1</th>\n",
       "      <td>1948-02-01</td>\n",
       "      <td>3.8</td>\n",
       "      <td>3.6</td>\n",
       "      <td>4.5</td>\n",
       "      <td>13.0</td>\n",
       "      <td>13.2</td>\n",
       "      <td>10.8</td>\n",
       "      <td>8.9</td>\n",
       "      <td>9.2</td>\n",
       "      <td>6.8</td>\n",
       "      <td>...</td>\n",
       "      <td>2.6</td>\n",
       "      <td>3.7</td>\n",
       "      <td>2.5</td>\n",
       "      <td>2.6</td>\n",
       "      <td>2.6</td>\n",
       "      <td>3.3</td>\n",
       "      <td>2.9</td>\n",
       "      <td>NaN</td>\n",
       "      <td>1948</td>\n",
       "      <td>1940</td>\n",
       "    </tr>\n",
       "    <tr>\n",
       "      <th>2</th>\n",
       "      <td>1948-03-01</td>\n",
       "      <td>4.0</td>\n",
       "      <td>3.8</td>\n",
       "      <td>4.4</td>\n",
       "      <td>14.0</td>\n",
       "      <td>11.4</td>\n",
       "      <td>11.9</td>\n",
       "      <td>8.6</td>\n",
       "      <td>10.3</td>\n",
       "      <td>7.3</td>\n",
       "      <td>...</td>\n",
       "      <td>2.6</td>\n",
       "      <td>3.3</td>\n",
       "      <td>2.6</td>\n",
       "      <td>3.0</td>\n",
       "      <td>2.4</td>\n",
       "      <td>3.3</td>\n",
       "      <td>2.8</td>\n",
       "      <td>NaN</td>\n",
       "      <td>1948</td>\n",
       "      <td>1940</td>\n",
       "    </tr>\n",
       "    <tr>\n",
       "      <th>3</th>\n",
       "      <td>1948-04-01</td>\n",
       "      <td>3.9</td>\n",
       "      <td>3.8</td>\n",
       "      <td>4.3</td>\n",
       "      <td>11.6</td>\n",
       "      <td>10.6</td>\n",
       "      <td>9.8</td>\n",
       "      <td>9.2</td>\n",
       "      <td>8.6</td>\n",
       "      <td>8.6</td>\n",
       "      <td>...</td>\n",
       "      <td>2.8</td>\n",
       "      <td>3.5</td>\n",
       "      <td>2.7</td>\n",
       "      <td>3.5</td>\n",
       "      <td>2.5</td>\n",
       "      <td>3.1</td>\n",
       "      <td>2.9</td>\n",
       "      <td>NaN</td>\n",
       "      <td>1948</td>\n",
       "      <td>1940</td>\n",
       "    </tr>\n",
       "    <tr>\n",
       "      <th>4</th>\n",
       "      <td>1948-05-01</td>\n",
       "      <td>3.5</td>\n",
       "      <td>3.5</td>\n",
       "      <td>3.7</td>\n",
       "      <td>7.1</td>\n",
       "      <td>5.4</td>\n",
       "      <td>7.6</td>\n",
       "      <td>6.1</td>\n",
       "      <td>8.6</td>\n",
       "      <td>7.0</td>\n",
       "      <td>...</td>\n",
       "      <td>2.5</td>\n",
       "      <td>3.1</td>\n",
       "      <td>2.4</td>\n",
       "      <td>3.0</td>\n",
       "      <td>2.3</td>\n",
       "      <td>2.9</td>\n",
       "      <td>3.1</td>\n",
       "      <td>NaN</td>\n",
       "      <td>1948</td>\n",
       "      <td>1940</td>\n",
       "    </tr>\n",
       "  </tbody>\n",
       "</table>\n",
       "<p>5 rows × 28 columns</p>\n",
       "</div>"
      ],
      "text/plain": [
       "        date  overall_rate  men_rate  women_rate  men_16_17_rate  \\\n",
       "0 1948-01-01           3.4       3.4         3.3             9.7   \n",
       "1 1948-02-01           3.8       3.6         4.5            13.0   \n",
       "2 1948-03-01           4.0       3.8         4.4            14.0   \n",
       "3 1948-04-01           3.9       3.8         4.3            11.6   \n",
       "4 1948-05-01           3.5       3.5         3.7             7.1   \n",
       "\n",
       "   women_16_17_rate  men_16_19_rate  women_16_19_rate  men_18_19_rate  \\\n",
       "0               8.8             9.4               7.2             9.5   \n",
       "1              13.2            10.8               8.9             9.2   \n",
       "2              11.4            11.9               8.6            10.3   \n",
       "3              10.6             9.8               9.2             8.6   \n",
       "4               5.4             7.6               6.1             8.6   \n",
       "\n",
       "   women_18_19_rate  ...  men_25_54_rate  women_25_54_rate  men_35_44_rate  \\\n",
       "0               6.8  ...             2.3               2.8             2.1   \n",
       "1               6.8  ...             2.6               3.7             2.5   \n",
       "2               7.3  ...             2.6               3.3             2.6   \n",
       "3               8.6  ...             2.8               3.5             2.7   \n",
       "4               7.0  ...             2.5               3.1             2.4   \n",
       "\n",
       "   women_35_44_rate  men_45_54_rate  women_45_54_rate  men_55plus_rate  \\\n",
       "0               1.8             2.3               2.1              3.0   \n",
       "1               2.6             2.6               3.3              2.9   \n",
       "2               3.0             2.4               3.3              2.8   \n",
       "3               3.5             2.5               3.1              2.9   \n",
       "4               3.0             2.3               2.9              3.1   \n",
       "\n",
       "   women_55plus_rate  year  decade  \n",
       "0                NaN  1948    1940  \n",
       "1                NaN  1948    1940  \n",
       "2                NaN  1948    1940  \n",
       "3                NaN  1948    1940  \n",
       "4                NaN  1948    1940  \n",
       "\n",
       "[5 rows x 28 columns]"
      ]
     },
     "execution_count": 8,
     "metadata": {},
     "output_type": "execute_result"
    }
   ],
   "source": [
    "# Create a year col\n",
    "df[\"year\"] = df[\"date\"].dt.year\n",
    "\n",
    "# Create a decade col by doing int-div by 10 then mul by 10\n",
    "df[\"decade\"] = (df[\"date\"].dt.year // 10) * 10\n",
    "\n",
    "# Preview df\n",
    "df.head()"
   ]
  },
  {
   "cell_type": "markdown",
   "id": "04d808ac-b656-47b2-a111-c7beef717938",
   "metadata": {},
   "source": [
    "#### 2 ) Group by decade"
   ]
  },
  {
   "cell_type": "code",
   "execution_count": 9,
   "id": "ee4d3dd2-17b6-4737-845a-14fe6e8cbcf6",
   "metadata": {
    "tags": []
   },
   "outputs": [
    {
     "data": {
      "text/html": [
       "<div>\n",
       "<style scoped>\n",
       "    .dataframe tbody tr th:only-of-type {\n",
       "        vertical-align: middle;\n",
       "    }\n",
       "\n",
       "    .dataframe tbody tr th {\n",
       "        vertical-align: top;\n",
       "    }\n",
       "\n",
       "    .dataframe thead th {\n",
       "        text-align: right;\n",
       "    }\n",
       "</style>\n",
       "<table border=\"1\" class=\"dataframe\">\n",
       "  <thead>\n",
       "    <tr style=\"text-align: right;\">\n",
       "      <th></th>\n",
       "      <th>men_rate</th>\n",
       "      <th>women_rate</th>\n",
       "    </tr>\n",
       "    <tr>\n",
       "      <th>decade</th>\n",
       "      <th></th>\n",
       "      <th></th>\n",
       "    </tr>\n",
       "  </thead>\n",
       "  <tbody>\n",
       "    <tr>\n",
       "      <th>1940</th>\n",
       "      <td>4.841667</td>\n",
       "      <td>5.045833</td>\n",
       "    </tr>\n",
       "    <tr>\n",
       "      <th>1950</th>\n",
       "      <td>4.288333</td>\n",
       "      <td>5.010000</td>\n",
       "    </tr>\n",
       "    <tr>\n",
       "      <th>1960</th>\n",
       "      <td>4.263333</td>\n",
       "      <td>5.699167</td>\n",
       "    </tr>\n",
       "    <tr>\n",
       "      <th>1970</th>\n",
       "      <td>5.535000</td>\n",
       "      <td>7.231667</td>\n",
       "    </tr>\n",
       "    <tr>\n",
       "      <th>1980</th>\n",
       "      <td>7.240833</td>\n",
       "      <td>7.318333</td>\n",
       "    </tr>\n",
       "    <tr>\n",
       "      <th>1990</th>\n",
       "      <td>5.841667</td>\n",
       "      <td>5.668333</td>\n",
       "    </tr>\n",
       "    <tr>\n",
       "      <th>2000</th>\n",
       "      <td>5.740000</td>\n",
       "      <td>5.315833</td>\n",
       "    </tr>\n",
       "    <tr>\n",
       "      <th>2010</th>\n",
       "      <td>6.431667</td>\n",
       "      <td>5.982500</td>\n",
       "    </tr>\n",
       "    <tr>\n",
       "      <th>2020</th>\n",
       "      <td>5.325581</td>\n",
       "      <td>5.367442</td>\n",
       "    </tr>\n",
       "  </tbody>\n",
       "</table>\n",
       "</div>"
      ],
      "text/plain": [
       "        men_rate  women_rate\n",
       "decade                      \n",
       "1940    4.841667    5.045833\n",
       "1950    4.288333    5.010000\n",
       "1960    4.263333    5.699167\n",
       "1970    5.535000    7.231667\n",
       "1980    7.240833    7.318333\n",
       "1990    5.841667    5.668333\n",
       "2000    5.740000    5.315833\n",
       "2010    6.431667    5.982500\n",
       "2020    5.325581    5.367442"
      ]
     },
     "execution_count": 9,
     "metadata": {},
     "output_type": "execute_result"
    }
   ],
   "source": [
    "# Sort values by order value\n",
    "group_df = df.groupby('decade')[['men_rate', 'women_rate']].mean()\n",
    "\n",
    "# Preview df\n",
    "group_df"
   ]
  },
  {
   "cell_type": "markdown",
   "id": "cebe5fbf-b8d8-443b-898a-76740e12307c",
   "metadata": {},
   "source": [
    "#### 3 ) Plot data using a bar chart"
   ]
  },
  {
   "cell_type": "code",
   "execution_count": 10,
   "id": "1f578253-a7b9-4982-be52-f7e05a41e539",
   "metadata": {
    "tags": []
   },
   "outputs": [
    {
     "data": {
      "text/plain": [
       "<matplotlib.legend.Legend at 0x1622d8c7e90>"
      ]
     },
     "execution_count": 10,
     "metadata": {},
     "output_type": "execute_result"
    },
    {
     "data": {
      "image/png": "[encoded data removed]",
      "text/plain": [
       "<Figure size 640x480 with 1 Axes>"
      ]
     },
     "metadata": {},
     "output_type": "display_data"
    }
   ],
   "source": [
    "# Create a bar graph of the df\n",
    "group_df.plot(kind = 'bar')\n",
    "\n",
    "# Set labels, title, and legend\n",
    "plt.xlabel('Decade')\n",
    "plt.ylabel('Avg. Unemployment Rate')\n",
    "plt.title('Men and Women Average Unemployment Rates Over the Years')\n",
    "plt.legend(['Men', 'Women'])"
   ]
  },
  {
   "cell_type": "markdown",
   "id": "11eeb25e-b811-45da-b062-767999a32166",
   "metadata": {},
   "source": [
    "#### Conclusion\n",
    "The unemployment rates for men and women follow a similar trend: decreasing from 1940 to 1950, increasing until the 1980s, decreasing until the 2010s for a sharp increase, before decreasing further in the 2020s. Women had higher unemployment rates until the 1990s. Since the 90's men have had higher or similar rates of unemployment compared to women."
   ]
  },
  {
   "cell_type": "markdown",
   "id": "36534212-eda6-496e-a321-d918486f0121",
   "metadata": {},
   "source": [
    "### Question 2: What is the ratio of female unemployment for different age groups over time"
   ]
  },
  {
   "cell_type": "markdown",
   "id": "99d248b0-bfb6-4dc8-be3e-857bf16bb570",
   "metadata": {},
   "source": [
    "#### 1 ) Group by decade"
   ]
  },
  {
   "cell_type": "code",
   "execution_count": 11,
   "id": "f28a59dd-c649-44ee-bed2-c695820168b7",
   "metadata": {
    "tags": []
   },
   "outputs": [
    {
     "data": {
      "text/html": [
       "<div>\n",
       "<style scoped>\n",
       "    .dataframe tbody tr th:only-of-type {\n",
       "        vertical-align: middle;\n",
       "    }\n",
       "\n",
       "    .dataframe tbody tr th {\n",
       "        vertical-align: top;\n",
       "    }\n",
       "\n",
       "    .dataframe thead th {\n",
       "        text-align: right;\n",
       "    }\n",
       "</style>\n",
       "<table border=\"1\" class=\"dataframe\">\n",
       "  <thead>\n",
       "    <tr style=\"text-align: right;\">\n",
       "      <th></th>\n",
       "      <th>women_16_24_rate</th>\n",
       "      <th>women_25_54_rate</th>\n",
       "      <th>women_55plus_rate</th>\n",
       "    </tr>\n",
       "    <tr>\n",
       "      <th>decade</th>\n",
       "      <th></th>\n",
       "      <th></th>\n",
       "      <th></th>\n",
       "    </tr>\n",
       "  </thead>\n",
       "  <tbody>\n",
       "    <tr>\n",
       "      <th>1940</th>\n",
       "      <td>7.762500</td>\n",
       "      <td>4.233333</td>\n",
       "      <td>NaN</td>\n",
       "    </tr>\n",
       "    <tr>\n",
       "      <th>1950</th>\n",
       "      <td>8.084167</td>\n",
       "      <td>4.373333</td>\n",
       "      <td>NaN</td>\n",
       "    </tr>\n",
       "    <tr>\n",
       "      <th>1960</th>\n",
       "      <td>10.865833</td>\n",
       "      <td>4.553333</td>\n",
       "      <td>NaN</td>\n",
       "    </tr>\n",
       "    <tr>\n",
       "      <th>1970</th>\n",
       "      <td>12.862500</td>\n",
       "      <td>5.542500</td>\n",
       "      <td>NaN</td>\n",
       "    </tr>\n",
       "    <tr>\n",
       "      <th>1980</th>\n",
       "      <td>13.085000</td>\n",
       "      <td>6.010000</td>\n",
       "      <td>NaN</td>\n",
       "    </tr>\n",
       "    <tr>\n",
       "      <th>1990</th>\n",
       "      <td>11.313333</td>\n",
       "      <td>4.693333</td>\n",
       "      <td>3.197222</td>\n",
       "    </tr>\n",
       "    <tr>\n",
       "      <th>2000</th>\n",
       "      <td>10.721667</td>\n",
       "      <td>4.521667</td>\n",
       "      <td>3.527500</td>\n",
       "    </tr>\n",
       "    <tr>\n",
       "      <th>2010</th>\n",
       "      <td>11.520833</td>\n",
       "      <td>5.332500</td>\n",
       "      <td>4.350000</td>\n",
       "    </tr>\n",
       "    <tr>\n",
       "      <th>2020</th>\n",
       "      <td>9.897674</td>\n",
       "      <td>4.755814</td>\n",
       "      <td>4.416279</td>\n",
       "    </tr>\n",
       "  </tbody>\n",
       "</table>\n",
       "</div>"
      ],
      "text/plain": [
       "        women_16_24_rate  women_25_54_rate  women_55plus_rate\n",
       "decade                                                       \n",
       "1940            7.762500          4.233333                NaN\n",
       "1950            8.084167          4.373333                NaN\n",
       "1960           10.865833          4.553333                NaN\n",
       "1970           12.862500          5.542500                NaN\n",
       "1980           13.085000          6.010000                NaN\n",
       "1990           11.313333          4.693333           3.197222\n",
       "2000           10.721667          4.521667           3.527500\n",
       "2010           11.520833          5.332500           4.350000\n",
       "2020            9.897674          4.755814           4.416279"
      ]
     },
     "execution_count": 11,
     "metadata": {},
     "output_type": "execute_result"
    }
   ],
   "source": [
    "# List the columns to be plotted\n",
    "col_to_plot = ['women_16_24_rate', 'women_25_54_rate', 'women_55plus_rate']\n",
    "\n",
    "# Group columns by decade\n",
    "group_df = df.groupby(\"decade\")[col_to_plot].mean()\n",
    "\n",
    "# Preview df\n",
    "group_df"
   ]
  },
  {
   "cell_type": "markdown",
   "id": "d25959e5-1b11-4fb2-85c1-bb709e5315d7",
   "metadata": {},
   "source": [
    "#### 2 ) Plot data using a line graph "
   ]
  },
  {
   "cell_type": "code",
   "execution_count": 12,
   "id": "490b4ea8-170a-487c-98e8-ebeb992eea02",
   "metadata": {
    "tags": []
   },
   "outputs": [
    {
     "data": {
      "image/png": "[encoded data removed]",
      "text/plain": [
       "<Figure size 640x480 with 1 Axes>"
      ]
     },
     "metadata": {},
     "output_type": "display_data"
    }
   ],
   "source": [
    "# Create a line graph of the data\n",
    "group_df.plot(kind = 'line', marker = 'o')\n",
    "\n",
    "# Set labels, title, settings, and legend\n",
    "plt.xlabel('Decade')\n",
    "plt.ylabel('Avg. Unemployment Rate')\n",
    "plt.title('Unemployment Rates for Women of Different Age Groups Over Time')\n",
    "plt.legend(['Ages 16-24', 'Ages 25-54', 'Ages 55+'], title = 'Women')\n",
    "plt.grid(True)"
   ]
  },
  {
   "cell_type": "markdown",
   "id": "fdc63dc9-d796-4c63-b424-308a6a0ca6c4",
   "metadata": {},
   "source": [
    "#### Conclusion\n",
    "It appears that women ages 16-24 have had considerably higher rates of unemployment than older women during each time period."
   ]
  },
  {
   "cell_type": "markdown",
   "id": "3e45e9fb-e20a-42b8-af72-77ab326715b3",
   "metadata": {},
   "source": [
    "### Question 3: What is the ratio of male unemployment for different age groups over time"
   ]
  },
  {
   "cell_type": "markdown",
   "id": "999ec03c-3cd5-4fe9-995e-af81f48ea2a9",
   "metadata": {},
   "source": [
    "#### 1 ) Group by decade"
   ]
  },
  {
   "cell_type": "code",
   "execution_count": 13,
   "id": "5d6a750e-526e-4e78-9af0-6059bc5fbbfa",
   "metadata": {
    "tags": []
   },
   "outputs": [
    {
     "data": {
      "text/html": [
       "<div>\n",
       "<style scoped>\n",
       "    .dataframe tbody tr th:only-of-type {\n",
       "        vertical-align: middle;\n",
       "    }\n",
       "\n",
       "    .dataframe tbody tr th {\n",
       "        vertical-align: top;\n",
       "    }\n",
       "\n",
       "    .dataframe thead th {\n",
       "        text-align: right;\n",
       "    }\n",
       "</style>\n",
       "<table border=\"1\" class=\"dataframe\">\n",
       "  <thead>\n",
       "    <tr style=\"text-align: right;\">\n",
       "      <th></th>\n",
       "      <th>men_16_24_rate</th>\n",
       "      <th>men_25_54_rate</th>\n",
       "      <th>men_55plus_rate</th>\n",
       "    </tr>\n",
       "    <tr>\n",
       "      <th>decade</th>\n",
       "      <th></th>\n",
       "      <th></th>\n",
       "      <th></th>\n",
       "    </tr>\n",
       "  </thead>\n",
       "  <tbody>\n",
       "    <tr>\n",
       "      <th>1940</th>\n",
       "      <td>9.862500</td>\n",
       "      <td>3.679167</td>\n",
       "      <td>4.329167</td>\n",
       "    </tr>\n",
       "    <tr>\n",
       "      <th>1950</th>\n",
       "      <td>9.325000</td>\n",
       "      <td>3.393333</td>\n",
       "      <td>3.883333</td>\n",
       "    </tr>\n",
       "    <tr>\n",
       "      <th>1960</th>\n",
       "      <td>9.978333</td>\n",
       "      <td>3.025833</td>\n",
       "      <td>3.555833</td>\n",
       "    </tr>\n",
       "    <tr>\n",
       "      <th>1970</th>\n",
       "      <td>12.515833</td>\n",
       "      <td>3.689167</td>\n",
       "      <td>3.355000</td>\n",
       "    </tr>\n",
       "    <tr>\n",
       "      <th>1980</th>\n",
       "      <td>14.545833</td>\n",
       "      <td>5.736667</td>\n",
       "      <td>4.037500</td>\n",
       "    </tr>\n",
       "    <tr>\n",
       "      <th>1990</th>\n",
       "      <td>12.670833</td>\n",
       "      <td>4.651667</td>\n",
       "      <td>3.790000</td>\n",
       "    </tr>\n",
       "    <tr>\n",
       "      <th>2000</th>\n",
       "      <td>12.961667</td>\n",
       "      <td>4.669167</td>\n",
       "      <td>3.878333</td>\n",
       "    </tr>\n",
       "    <tr>\n",
       "      <th>2010</th>\n",
       "      <td>14.211667</td>\n",
       "      <td>5.410000</td>\n",
       "      <td>4.772500</td>\n",
       "    </tr>\n",
       "    <tr>\n",
       "      <th>2020</th>\n",
       "      <td>10.953488</td>\n",
       "      <td>4.662791</td>\n",
       "      <td>4.193023</td>\n",
       "    </tr>\n",
       "  </tbody>\n",
       "</table>\n",
       "</div>"
      ],
      "text/plain": [
       "        men_16_24_rate  men_25_54_rate  men_55plus_rate\n",
       "decade                                                 \n",
       "1940          9.862500        3.679167         4.329167\n",
       "1950          9.325000        3.393333         3.883333\n",
       "1960          9.978333        3.025833         3.555833\n",
       "1970         12.515833        3.689167         3.355000\n",
       "1980         14.545833        5.736667         4.037500\n",
       "1990         12.670833        4.651667         3.790000\n",
       "2000         12.961667        4.669167         3.878333\n",
       "2010         14.211667        5.410000         4.772500\n",
       "2020         10.953488        4.662791         4.193023"
      ]
     },
     "execution_count": 13,
     "metadata": {},
     "output_type": "execute_result"
    }
   ],
   "source": [
    "# List the columns to be plotted\n",
    "col_to_plot = ['men_16_24_rate', 'men_25_54_rate', 'men_55plus_rate']\n",
    "\n",
    "# Group columns by decade\n",
    "group_df = df.groupby(\"decade\")[col_to_plot].mean()\n",
    "\n",
    "# Preview df\n",
    "group_df"
   ]
  },
  {
   "cell_type": "markdown",
   "id": "986e75e1-c427-4069-ac0d-c4c60b9958ff",
   "metadata": {
    "tags": []
   },
   "source": [
    "#### 2 ) Plot data using a line graph"
   ]
  },
  {
   "cell_type": "code",
   "execution_count": 14,
   "id": "084c2334-d501-4004-bc9d-54c36c894d08",
   "metadata": {
    "tags": []
   },
   "outputs": [
    {
     "data": {
      "image/png": "[encoded data removed]",
      "text/plain": [
       "<Figure size 640x480 with 1 Axes>"
      ]
     },
     "metadata": {},
     "output_type": "display_data"
    }
   ],
   "source": [
    "# Create a line graph of the data\n",
    "group_df.plot(kind = 'line', marker = 'o')\n",
    "\n",
    "# Set labels, title, settings, and legend\n",
    "plt.xlabel('Decade')\n",
    "plt.ylabel('Avg. Unemployment Rate')\n",
    "plt.title('Unemployment Rates for Men of Different Age Groups Over Time')\n",
    "plt.legend(['Ages 16-24', 'Ages 25-54', 'Ages 55+'], title = 'Men')\n",
    "plt.grid(True)"
   ]
  },
  {
   "cell_type": "markdown",
   "id": "edabe921-64d3-4b28-afd2-04fc07635c98",
   "metadata": {
    "tags": []
   },
   "source": [
    "#### Conclusion\n",
    "Men's data appears similar to women's data in that men aged 16-24 have considerably higher rates of unemployment than do older age groups. However, male unemployment appears to reach higher rates of unemployment for men aged 16-24 in many decades."
   ]
  },
  {
   "cell_type": "markdown",
   "id": "3dad9a0f-d1ab-4dfd-a903-fc1dca1b1b7e",
   "metadata": {},
   "source": [
    "### Question 4: How do unemployment rates of different groups of young men and women compare from 2010 to 2019"
   ]
  },
  {
   "cell_type": "markdown",
   "id": "451362c4-baa9-482e-a0ea-e25f2f2a0665",
   "metadata": {
    "tags": []
   },
   "source": [
    "#### 1 ) Group data by decade"
   ]
  },
  {
   "cell_type": "code",
   "execution_count": 15,
   "id": "241c6b0d-fd62-4b51-926e-94ab8852a8b7",
   "metadata": {
    "tags": []
   },
   "outputs": [
    {
     "data": {
      "text/plain": [
       "men_16_17_rate      23.065833\n",
       "men_18_19_rate      19.816667\n",
       "women_16_17_rate    19.410000\n",
       "women_18_19_rate    15.490000\n",
       "Name: 2010, dtype: float64"
      ]
     },
     "execution_count": 15,
     "metadata": {},
     "output_type": "execute_result"
    }
   ],
   "source": [
    "# List the columns to be plotted\n",
    "col_to_plot = ['men_16_17_rate', 'men_18_19_rate', 'women_16_17_rate', 'women_18_19_rate']\n",
    "\n",
    "# Group columns by decade\n",
    "group_df = df.groupby(\"decade\")[col_to_plot].mean()\n",
    "\n",
    "# Preview df\n",
    "group_df.loc[2010]"
   ]
  },
  {
   "cell_type": "markdown",
   "id": "3cc4e7b8-02e2-412a-8096-10167d0507d9",
   "metadata": {},
   "source": [
    "#### 2 ) Plot data using a pie chart"
   ]
  },
  {
   "cell_type": "code",
   "execution_count": 16,
   "id": "d5ac9641-e270-4fd3-bb16-ca5d4e0eef47",
   "metadata": {
    "tags": []
   },
   "outputs": [
    {
     "data": {
      "text/plain": [
       "Text(0.5, 1.0, 'Unemployment Rates for Young Men and Women from 2010 to 2019')"
      ]
     },
     "execution_count": 16,
     "metadata": {},
     "output_type": "execute_result"
    },
    {
     "data": {
      "image/png": "[encoded data removed]",
      "text/plain": [
       "<Figure size 600x600 with 1 Axes>"
      ]
     },
     "metadata": {},
     "output_type": "display_data"
    }
   ],
   "source": [
    "# Create a pie graph of the data, set labels, and set attributes\n",
    "plt.figure(figsize = (6, 6))\n",
    "plt.pie(group_df.loc[2010], labels=['Men 16-17', 'Men 18-19', 'Women 16-17', 'Women 18-19'], autopct='%1.1f%%', startangle=140)\n",
    "\n",
    "# Set title\n",
    "plt.title('Unemployment Rates for Young Men and Women from 2010 to 2019')"
   ]
  },
  {
   "cell_type": "markdown",
   "id": "0439eeec-ffa8-41ce-a05b-60c8eb9b67c4",
   "metadata": {},
   "source": [
    "### Conclusion\n",
    "Young men in the 2010s appear to have had slightly higher rates of unemployment compared to "
   ]
  },
  {
   "cell_type": "markdown",
   "id": "aa867940-4a95-4c4e-9be9-882c62046c24",
   "metadata": {},
   "source": [
    "## Present/Visualize the Data"
   ]
  },
  {
   "cell_type": "markdown",
   "id": "49ecbb44-9737-4faa-b61e-1f20fbf7772a",
   "metadata": {},
   "source": [
    "## Report/Storytelling\n",
    "The graphs shown above can be used to see some interesting trends:\n",
    " 1) Younger men and women (16-24) historically see higher rates of unemployment than older groups. This may be because many teenagers and young adults are focusing on school or are not entering the job market yet.\n",
    " 1) Older men and women (55+) historically see much lower rates of unemployment than younger groups. This is likely because they are still working towards retirement at the age of 65+.\n",
    " 1) Young men appear to have higher rates of unemployment than do young women.\n",
    " 1) Unemployment spikes occur around 1980s and 2010s. The first spike was caused by the early 1980's recession, sometimes called \"Reagan's recession\" in the US. This recession was caused by tight monetary policies put into place in an effort to fight high global inflation percentages at the time. The second spike was caused by the 2000's to 2010's recession, often called the \"Great Recession\" in the US. This recession was caused by US housing policies that lead to the real-estate bubble bursting."
   ]
  },
  {
   "cell_type": "markdown",
   "id": "93cb2d1d-1f0e-473e-8847-846f64512e42",
   "metadata": {},
   "source": [
    "### Define Other Possible Problems to Analyze\n",
    " - Reasons for the lack of women 55+ data before 1984\n",
    " - Reasons for young women generally having lower unemployment rates than young men\n",
    " - During which years did unemployment rates change direction overall (either began increasing or began decreasing)"
   ]
  }
 ],
 "metadata": {
  "kernelspec": {
   "display_name": "Python 3 (ipykernel)",
   "language": "python",
   "name": "python3"
  },
  "language_info": {
   "codemirror_mode": {
    "name": "ipython",
    "version": 3
   },
   "file_extension": ".py",
   "mimetype": "text/x-python",
   "name": "python",
   "nbconvert_exporter": "python",
   "pygments_lexer": "ipython3",
   "version": "3.11.1"
  }
 },
 "nbformat": 4,
 "nbformat_minor": 5
}
