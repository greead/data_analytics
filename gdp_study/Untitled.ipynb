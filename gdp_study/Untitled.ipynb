{
 "cells": [
  {
   "cell_type": "code",
   "execution_count": 1,
   "id": "81f1364d-10e5-4b0c-be8e-6467baf7be12",
   "metadata": {
    "tags": []
   },
   "outputs": [],
   "source": [
    "import pandas as pd\n",
    "import json"
   ]
  },
  {
   "cell_type": "code",
   "execution_count": 2,
   "id": "1786bfbb-a2ae-4325-9a1d-247bc3ffd8cf",
   "metadata": {
    "tags": []
   },
   "outputs": [],
   "source": [
    "with open('bea_data.json', 'r') as j_file:\n",
    "    j_obj = json.load(j_file)"
   ]
  },
  {
   "cell_type": "code",
   "execution_count": 5,
   "id": "f3a5a2b6-d3d4-453b-bb3a-c10e30f3b561",
   "metadata": {
    "tags": []
   },
   "outputs": [],
   "source": [
    "bea_api = j_obj[\"BEAAPI\"]"
   ]
  },
  {
   "cell_type": "code",
   "execution_count": 7,
   "id": "46d4d25e-4b38-402e-9be5-c1841cfd6441",
   "metadata": {
    "tags": []
   },
   "outputs": [],
   "source": [
    "results = bea_api[\"Results\"]"
   ]
  },
  {
   "cell_type": "code",
   "execution_count": 9,
   "id": "512d8970-7aa9-4dbc-a1cd-bcdc42b114ee",
   "metadata": {
    "tags": []
   },
   "outputs": [],
   "source": [
    "data = results[\"Data\"]"
   ]
  },
  {
   "cell_type": "code",
   "execution_count": 10,
   "id": "ab9914ca-a804-4717-b0b3-432c2efd7fe4",
   "metadata": {
    "tags": []
   },
   "outputs": [
    {
     "data": {
      "text/html": [
       "<div>\n",
       "<style scoped>\n",
       "    .dataframe tbody tr th:only-of-type {\n",
       "        vertical-align: middle;\n",
       "    }\n",
       "\n",
       "    .dataframe tbody tr th {\n",
       "        vertical-align: top;\n",
       "    }\n",
       "\n",
       "    .dataframe thead th {\n",
       "        text-align: right;\n",
       "    }\n",
       "</style>\n",
       "<table border=\"1\" class=\"dataframe\">\n",
       "  <thead>\n",
       "    <tr style=\"text-align: right;\">\n",
       "      <th></th>\n",
       "      <th>TableName</th>\n",
       "      <th>SeriesCode</th>\n",
       "      <th>LineNumber</th>\n",
       "      <th>LineDescription</th>\n",
       "      <th>TimePeriod</th>\n",
       "      <th>METRIC_NAME</th>\n",
       "      <th>CL_UNIT</th>\n",
       "      <th>UNIT_MULT</th>\n",
       "      <th>DataValue</th>\n",
       "      <th>NoteRef</th>\n",
       "    </tr>\n",
       "  </thead>\n",
       "  <tbody>\n",
       "    <tr>\n",
       "      <th>0</th>\n",
       "      <td>T10101</td>\n",
       "      <td>A191RL</td>\n",
       "      <td>1</td>\n",
       "      <td>Gross domestic product</td>\n",
       "      <td>1930</td>\n",
       "      <td>Fisher Quantity Index</td>\n",
       "      <td>Percent change, annual rate</td>\n",
       "      <td>0</td>\n",
       "      <td>-8.5</td>\n",
       "      <td>T10101</td>\n",
       "    </tr>\n",
       "    <tr>\n",
       "      <th>1</th>\n",
       "      <td>T10101</td>\n",
       "      <td>A191RL</td>\n",
       "      <td>1</td>\n",
       "      <td>Gross domestic product</td>\n",
       "      <td>1931</td>\n",
       "      <td>Fisher Quantity Index</td>\n",
       "      <td>Percent change, annual rate</td>\n",
       "      <td>0</td>\n",
       "      <td>-6.4</td>\n",
       "      <td>T10101</td>\n",
       "    </tr>\n",
       "    <tr>\n",
       "      <th>2</th>\n",
       "      <td>T10101</td>\n",
       "      <td>A191RL</td>\n",
       "      <td>1</td>\n",
       "      <td>Gross domestic product</td>\n",
       "      <td>1932</td>\n",
       "      <td>Fisher Quantity Index</td>\n",
       "      <td>Percent change, annual rate</td>\n",
       "      <td>0</td>\n",
       "      <td>-12.9</td>\n",
       "      <td>T10101</td>\n",
       "    </tr>\n",
       "    <tr>\n",
       "      <th>3</th>\n",
       "      <td>T10101</td>\n",
       "      <td>A191RL</td>\n",
       "      <td>1</td>\n",
       "      <td>Gross domestic product</td>\n",
       "      <td>1933</td>\n",
       "      <td>Fisher Quantity Index</td>\n",
       "      <td>Percent change, annual rate</td>\n",
       "      <td>0</td>\n",
       "      <td>-1.2</td>\n",
       "      <td>T10101</td>\n",
       "    </tr>\n",
       "    <tr>\n",
       "      <th>4</th>\n",
       "      <td>T10101</td>\n",
       "      <td>A191RL</td>\n",
       "      <td>1</td>\n",
       "      <td>Gross domestic product</td>\n",
       "      <td>1934</td>\n",
       "      <td>Fisher Quantity Index</td>\n",
       "      <td>Percent change, annual rate</td>\n",
       "      <td>0</td>\n",
       "      <td>10.8</td>\n",
       "      <td>T10101</td>\n",
       "    </tr>\n",
       "    <tr>\n",
       "      <th>...</th>\n",
       "      <td>...</td>\n",
       "      <td>...</td>\n",
       "      <td>...</td>\n",
       "      <td>...</td>\n",
       "      <td>...</td>\n",
       "      <td>...</td>\n",
       "      <td>...</td>\n",
       "      <td>...</td>\n",
       "      <td>...</td>\n",
       "      <td>...</td>\n",
       "    </tr>\n",
       "    <tr>\n",
       "      <th>2320</th>\n",
       "      <td>T10101</td>\n",
       "      <td>A191RP</td>\n",
       "      <td>27</td>\n",
       "      <td>Gross domestic product, current dollars</td>\n",
       "      <td>2018</td>\n",
       "      <td>Current Dollars</td>\n",
       "      <td>Percent change, annual rate</td>\n",
       "      <td>0</td>\n",
       "      <td>5.4</td>\n",
       "      <td>T10101</td>\n",
       "    </tr>\n",
       "    <tr>\n",
       "      <th>2321</th>\n",
       "      <td>T10101</td>\n",
       "      <td>A191RP</td>\n",
       "      <td>27</td>\n",
       "      <td>Gross domestic product, current dollars</td>\n",
       "      <td>2019</td>\n",
       "      <td>Current Dollars</td>\n",
       "      <td>Percent change, annual rate</td>\n",
       "      <td>0</td>\n",
       "      <td>4.1</td>\n",
       "      <td>T10101</td>\n",
       "    </tr>\n",
       "    <tr>\n",
       "      <th>2322</th>\n",
       "      <td>T10101</td>\n",
       "      <td>A191RP</td>\n",
       "      <td>27</td>\n",
       "      <td>Gross domestic product, current dollars</td>\n",
       "      <td>2020</td>\n",
       "      <td>Current Dollars</td>\n",
       "      <td>Percent change, annual rate</td>\n",
       "      <td>0</td>\n",
       "      <td>-1.5</td>\n",
       "      <td>T10101</td>\n",
       "    </tr>\n",
       "    <tr>\n",
       "      <th>2323</th>\n",
       "      <td>T10101</td>\n",
       "      <td>A191RP</td>\n",
       "      <td>27</td>\n",
       "      <td>Gross domestic product, current dollars</td>\n",
       "      <td>2021</td>\n",
       "      <td>Current Dollars</td>\n",
       "      <td>Percent change, annual rate</td>\n",
       "      <td>0</td>\n",
       "      <td>10.7</td>\n",
       "      <td>T10101</td>\n",
       "    </tr>\n",
       "    <tr>\n",
       "      <th>2324</th>\n",
       "      <td>T10101</td>\n",
       "      <td>A191RP</td>\n",
       "      <td>27</td>\n",
       "      <td>Gross domestic product, current dollars</td>\n",
       "      <td>2022</td>\n",
       "      <td>Current Dollars</td>\n",
       "      <td>Percent change, annual rate</td>\n",
       "      <td>0</td>\n",
       "      <td>9.2</td>\n",
       "      <td>T10101</td>\n",
       "    </tr>\n",
       "  </tbody>\n",
       "</table>\n",
       "<p>2325 rows × 10 columns</p>\n",
       "</div>"
      ],
      "text/plain": [
       "     TableName SeriesCode LineNumber                          LineDescription  \\\n",
       "0       T10101     A191RL          1                   Gross domestic product   \n",
       "1       T10101     A191RL          1                   Gross domestic product   \n",
       "2       T10101     A191RL          1                   Gross domestic product   \n",
       "3       T10101     A191RL          1                   Gross domestic product   \n",
       "4       T10101     A191RL          1                   Gross domestic product   \n",
       "...        ...        ...        ...                                      ...   \n",
       "2320    T10101     A191RP         27  Gross domestic product, current dollars   \n",
       "2321    T10101     A191RP         27  Gross domestic product, current dollars   \n",
       "2322    T10101     A191RP         27  Gross domestic product, current dollars   \n",
       "2323    T10101     A191RP         27  Gross domestic product, current dollars   \n",
       "2324    T10101     A191RP         27  Gross domestic product, current dollars   \n",
       "\n",
       "     TimePeriod            METRIC_NAME                      CL_UNIT UNIT_MULT  \\\n",
       "0          1930  Fisher Quantity Index  Percent change, annual rate         0   \n",
       "1          1931  Fisher Quantity Index  Percent change, annual rate         0   \n",
       "2          1932  Fisher Quantity Index  Percent change, annual rate         0   \n",
       "3          1933  Fisher Quantity Index  Percent change, annual rate         0   \n",
       "4          1934  Fisher Quantity Index  Percent change, annual rate         0   \n",
       "...         ...                    ...                          ...       ...   \n",
       "2320       2018        Current Dollars  Percent change, annual rate         0   \n",
       "2321       2019        Current Dollars  Percent change, annual rate         0   \n",
       "2322       2020        Current Dollars  Percent change, annual rate         0   \n",
       "2323       2021        Current Dollars  Percent change, annual rate         0   \n",
       "2324       2022        Current Dollars  Percent change, annual rate         0   \n",
       "\n",
       "     DataValue NoteRef  \n",
       "0         -8.5  T10101  \n",
       "1         -6.4  T10101  \n",
       "2        -12.9  T10101  \n",
       "3         -1.2  T10101  \n",
       "4         10.8  T10101  \n",
       "...        ...     ...  \n",
       "2320       5.4  T10101  \n",
       "2321       4.1  T10101  \n",
       "2322      -1.5  T10101  \n",
       "2323      10.7  T10101  \n",
       "2324       9.2  T10101  \n",
       "\n",
       "[2325 rows x 10 columns]"
      ]
     },
     "execution_count": 10,
     "metadata": {},
     "output_type": "execute_result"
    }
   ],
   "source": [
    "df = pd.DataFrame(data)\n",
    "df"
   ]
  },
  {
   "cell_type": "code",
   "execution_count": 14,
   "id": "248f3edd-0281-4101-bb1b-3b6de7740667",
   "metadata": {
    "tags": []
   },
   "outputs": [
    {
     "data": {
      "text/plain": [
       "array(['Gross domestic product', 'Personal consumption expenditures',\n",
       "       'Goods', 'Durable goods', 'Nondurable goods', 'Services',\n",
       "       'Gross private domestic investment', 'Fixed investment',\n",
       "       'Nonresidential', 'Structures', 'Equipment',\n",
       "       'Intellectual property products', 'Residential', 'Exports',\n",
       "       'Imports',\n",
       "       'Government consumption expenditures and gross investment',\n",
       "       'Federal', 'National defense', 'Nondefense', 'State and local',\n",
       "       'Gross domestic product, current dollars'], dtype=object)"
      ]
     },
     "execution_count": 14,
     "metadata": {},
     "output_type": "execute_result"
    }
   ],
   "source": [
    "df[\"LineDescription\"].unique()"
   ]
  },
  {
   "cell_type": "code",
   "execution_count": 15,
   "id": "5a2b90a9-d09d-4c38-b7f4-6d718805a7c6",
   "metadata": {
    "tags": []
   },
   "outputs": [
    {
     "data": {
      "text/plain": [
       "array(['Percent change, annual rate'], dtype=object)"
      ]
     },
     "execution_count": 15,
     "metadata": {},
     "output_type": "execute_result"
    }
   ],
   "source": [
    "df[\"CL_UNIT\"].unique()"
   ]
  },
  {
   "cell_type": "code",
   "execution_count": 16,
   "id": "37043f7c-b9fc-46f6-80b5-26ff6bcfbdca",
   "metadata": {
    "tags": []
   },
   "outputs": [
    {
     "data": {
      "text/plain": [
       "TableName          object\n",
       "SeriesCode         object\n",
       "LineNumber         object\n",
       "LineDescription    object\n",
       "TimePeriod         object\n",
       "METRIC_NAME        object\n",
       "CL_UNIT            object\n",
       "UNIT_MULT          object\n",
       "DataValue          object\n",
       "NoteRef            object\n",
       "dtype: object"
      ]
     },
     "execution_count": 16,
     "metadata": {},
     "output_type": "execute_result"
    }
   ],
   "source": [
    "df.dtypes"
   ]
  }
 ],
 "metadata": {
  "kernelspec": {
   "display_name": "Python 3 (ipykernel)",
   "language": "python",
   "name": "python3"
  },
  "language_info": {
   "codemirror_mode": {
    "name": "ipython",
    "version": 3
   },
   "file_extension": ".py",
   "mimetype": "text/x-python",
   "name": "python",
   "nbconvert_exporter": "python",
   "pygments_lexer": "ipython3",
   "version": "3.11.1"
  }
 },
 "nbformat": 4,
 "nbformat_minor": 5
}
